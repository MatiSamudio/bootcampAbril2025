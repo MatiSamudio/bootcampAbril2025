{
 "cells": [
  {
   "cell_type": "code",
   "execution_count": null,
   "id": "fbffb1ee",
   "metadata": {},
   "outputs": [
    {
     "name": "stdout",
     "output_type": "stream",
     "text": [
      "Buen dia matias\n"
     ]
    }
   ],
   "source": [
    "#Repaso\n",
    "\n",
    "def saludo_bienvenida (nombre,):\n",
    "    # nombre = input(\"Ingresa tu nombre\")  no funciona\n",
    "    print(f\"Buen dia {nombre}\")\n",
    "\n",
    "\n",
    "# saludo_bienvenida()\n",
    "\n",
    "# #con input\n",
    "saludo_bienvenida(input(\"Ingresa tu nombre\")) # Mjeor manera \n",
    "# #sin input\n",
    "# saludo_bienvenida(\"Matias\")"
   ]
  },
  {
   "cell_type": "code",
   "execution_count": 5,
   "id": "19dc2377",
   "metadata": {},
   "outputs": [
    {
     "name": "stdout",
     "output_type": "stream",
     "text": [
      "Hace lo que quieras\n"
     ]
    }
   ],
   "source": [
    "# Challenge\n",
    "\n",
    "edad_usuario = int(input(\"Cuantos años tenes?\"))\n",
    "\n",
    "if edad_usuario < 18:\n",
    "    print(\"Juguito nomas para vos\")\n",
    "\n",
    "elif edad_usuario >= 21:\n",
    "    print(\"Hace lo que quieras\")\n",
    "\n",
    "else:\n",
    "    print(\"Podes tomar pero no comprar\")"
   ]
  },
  {
   "cell_type": "code",
   "execution_count": 17,
   "id": "87cbd1d4",
   "metadata": {},
   "outputs": [
    {
     "name": "stdout",
     "output_type": "stream",
     "text": [
      "La temperatura es 19.0°\n",
      "Calor i \n"
     ]
    }
   ],
   "source": [
    "# Challenge\n",
    "\n",
    "temperatura= float(input(\"Ingresa la temperatura \"))\n",
    "print(f\"La temperatura es {temperatura}°\")\n",
    "\n",
    "if temperatura >= -10 and temperatura <= 18:\n",
    "    print(\"Fresquete\")\n",
    "elif temperatura >= 19 and temperatura <= 30:\n",
    "    print(\"Calor i \")\n",
    "elif temperatura >= 31 and temperatura <= 45:\n",
    "    print(\"Hakuu\")\n",
    "else: \n",
    "    print(\"Ñamano mbae\")\n"
   ]
  },
  {
   "cell_type": "code",
   "execution_count": null,
   "id": "418302d9",
   "metadata": {},
   "outputs": [
    {
     "name": "stdout",
     "output_type": "stream",
     "text": [
      "no es la contraseña\n",
      "no es la contraseña\n",
      "no es la contraseña\n",
      "Bienvenido\n"
     ]
    }
   ],
   "source": [
    "# Challenge\n",
    "\n",
    "#forma simple \n",
    "# contraseña_real = \"hola123\"\n",
    "# contraseña_intento = input(\"Ingresa tu contraseña\")\n",
    "\n",
    "# while contraseña_intento != contraseña_real:\n",
    "#         print(\"NO es la contraseña\")\n",
    "#         contraseña_intento = input(\"Vuelva a ingresar contraseña\")\n",
    "\n",
    "# print(\"Bienvcenido\")\n",
    "\n",
    "contraseña_real = \"hola123\"\n",
    "contraseña_intento = input(\"Ingresa contraseña\")\n",
    "\n",
    "while True:\n",
    "    if contraseña_intento == contraseña_real:\n",
    "        print(\"Bienvenido\")\n",
    "        break\n",
    "    else:\n",
    "        print(\"no es la contraseña\")\n",
    "        contraseña_intento = input(\"Vuelva a intentar\")"
   ]
  },
  {
   "cell_type": "code",
   "execution_count": null,
   "id": "101d0d7c",
   "metadata": {},
   "outputs": [
    {
     "name": "stdout",
     "output_type": "stream",
     "text": [
      "['guiso', 'pizza', 'hamburguesa', 'spaguetti', 'ravioles', 'bife']\n",
      "['guiso', 'empanada', 'hamburguesa', 'spaguetti', 'ravioles', 'bife']\n",
      "['guiso', 'empanada', 'spaguetti', 'ravioles', 'bife']\n"
     ]
    }
   ],
   "source": [
    "# CHallenge\n",
    "\n",
    "comidas = [\"guiso\", \"pizza\", \"hamburguesa\", \"spaguetti\", \"ravioles\"]\n",
    "\n",
    "comidas.append(\"bife\")\n",
    "print(comidas)\n",
    "\n",
    "comidas[1]= \"empanada\"\n",
    "print(comidas)\n",
    "\n",
    "comidas.pop(2)\n",
    "print(comidas)\n"
   ]
  },
  {
   "cell_type": "code",
   "execution_count": null,
   "id": "7ff8a42f",
   "metadata": {},
   "outputs": [
    {
     "name": "stdout",
     "output_type": "stream",
     "text": [
      "['Desayunar', 'Entrenar', 'programar', 'Leer']\n"
     ]
    }
   ],
   "source": [
    "\n",
    "# cambiar tercer y cuarto valor \n",
    "\n",
    "tareas = [\"Desayunar\", \"Entrenar\", \"Estudiar\", \"Jugar videojuegos\"]\n",
    "\n",
    "\n",
    "tareas[2] = \"programar\"\n",
    "tareas[3] = \"Leer\"\n",
    "print(tareas)"
   ]
  },
  {
   "cell_type": "code",
   "execution_count": 11,
   "id": "12e3bd40",
   "metadata": {},
   "outputs": [
    {
     "name": "stdout",
     "output_type": "stream",
     "text": [
      "2\n",
      "4\n",
      "6\n",
      "8\n",
      "10\n",
      "12\n",
      "14\n",
      "16\n",
      "18\n",
      "20\n"
     ]
    }
   ],
   "source": [
    "# Challenge\n",
    "\n",
    "\n",
    "for i in range(1,11):\n",
    "    numero = i * 2 \n",
    "    print(numero)"
   ]
  },
  {
   "cell_type": "code",
   "execution_count": 17,
   "id": "586bf4ae",
   "metadata": {},
   "outputs": [
    {
     "name": "stdout",
     "output_type": "stream",
     "text": [
      "Toyota\n",
      "Mercedes\n",
      "VolksWagen\n",
      "Nissan\n"
     ]
    }
   ],
   "source": [
    "# Challenge \n",
    "\n",
    "marcas = [\"Toyota\", \"Audi\", \"Mercedes\", \"VolksWagen\", \"Nissan\"]\n",
    " \n",
    "\n",
    "for nombre in marcas:\n",
    "    if len(nombre) >= 6:\n",
    "\n",
    "     print(nombre)\n",
    "\n",
    "\n"
   ]
  },
  {
   "cell_type": "code",
   "execution_count": null,
   "id": "36e288bc",
   "metadata": {},
   "outputs": [
    {
     "name": "stdout",
     "output_type": "stream",
     "text": [
      "La cantidad de O 2\n",
      "La cantidad de O 2\n",
      "La cantidad de O 2\n",
      "La cantidad de O 2\n",
      "La cantidad de O 2\n"
     ]
    }
   ],
   "source": [
    "# Challenge\n",
    "\n",
    "frase = input(\"Ingresa una frase\")\n",
    "\n",
    "for letra in frase:\n",
    "     \n",
    "     if letra == \"o\": \n",
    "        print(\"O found\")\n"
   ]
  },
  {
   "cell_type": "code",
   "execution_count": null,
   "id": "90bcccb6",
   "metadata": {},
   "outputs": [],
   "source": []
  }
 ],
 "metadata": {
  "kernelspec": {
   "display_name": "Python 3",
   "language": "python",
   "name": "python3"
  },
  "language_info": {
   "codemirror_mode": {
    "name": "ipython",
    "version": 3
   },
   "file_extension": ".py",
   "mimetype": "text/x-python",
   "name": "python",
   "nbconvert_exporter": "python",
   "pygments_lexer": "ipython3",
   "version": "3.13.3"
  }
 },
 "nbformat": 4,
 "nbformat_minor": 5
}
