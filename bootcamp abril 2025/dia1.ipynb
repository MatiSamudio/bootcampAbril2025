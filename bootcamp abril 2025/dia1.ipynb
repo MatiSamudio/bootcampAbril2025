{
 "cells": [
  {
   "cell_type": "code",
   "execution_count": 2,
   "id": "e290f642",
   "metadata": {},
   "outputs": [
    {
     "name": "stdout",
     "output_type": "stream",
     "text": [
      "Hola mundo\n"
     ]
    }
   ],
   "source": [
    "print (\"Hola mundo\")"
   ]
  },
  {
   "cell_type": "code",
   "execution_count": 5,
   "id": "24e9e13a",
   "metadata": {},
   "outputs": [
    {
     "name": "stdout",
     "output_type": "stream",
     "text": [
      "Matias\n",
      "Samudio\n"
     ]
    }
   ],
   "source": [
    "nombre = \"Matias\"\n",
    "apellido = \"Samudio\"\n",
    "\n",
    "print(nombre)\n",
    "print(apellido)"
   ]
  },
  {
   "cell_type": "code",
   "execution_count": null,
   "id": "5ae1fbb7",
   "metadata": {},
   "outputs": [
    {
     "name": "stdout",
     "output_type": "stream",
     "text": [
      "25\n",
      "5\n"
     ]
    }
   ],
   "source": [
    "#Challenge 1 \n",
    "\n",
    "cantidad_de_manzanas = 15\n",
    "cantidad_de_naranjas = 10\n",
    "\n",
    "cantidad_de_frutas = cantidad_de_manzanas + cantidad_de_naranjas\n",
    "print(cantidad_de_frutas)\n",
    "\n",
    "frutas_vendidas = 20\n",
    "\n",
    "frutas_restantes = cantidad_de_frutas - frutas_vendidas\n",
    "print(frutas_restantes)\n"
   ]
  },
  {
   "cell_type": "code",
   "execution_count": 9,
   "id": "3163a687",
   "metadata": {},
   "outputs": [
    {
     "name": "stdout",
     "output_type": "stream",
     "text": [
      "Hola! me llamo Matias Portillo mucho gusto.\n"
     ]
    }
   ],
   "source": [
    "#challenge 2 \n",
    "\n",
    "nombre = \"Matias\"\n",
    "apellido =\"Portillo\"\n",
    "\n",
    "print(f\"Hola! me llamo {nombre} {apellido} mucho gusto.\")\n"
   ]
  },
  {
   "cell_type": "code",
   "execution_count": 11,
   "id": "4adacf7a",
   "metadata": {},
   "outputs": [
    {
     "name": "stdout",
     "output_type": "stream",
     "text": [
      "El resultado de la suma de amnbos numeros es 5\n"
     ]
    }
   ],
   "source": [
    "#Challenge 3 \n",
    "\n",
    "numero1 = int(input(\"Ingresa un numero\"))\n",
    "numero2 = int(input(\"Ingresa otro numero\"))\n",
    "\n",
    "suma = numero1 + numero2\n",
    "\n",
    "print(f\"El resultado de la suma de amnbos numeros es {suma}\")\n",
    "\n"
   ]
  },
  {
   "cell_type": "code",
   "execution_count": null,
   "id": "f81f7c47",
   "metadata": {},
   "outputs": [
    {
     "name": "stdout",
     "output_type": "stream",
     "text": [
      "Elegir comida\n",
      "Preprar utencilios y \n",
      "Seguir pasos de receta\n",
      "Servir comida\n",
      "Disfrutar\n",
      "Elegir comida\n",
      "Preprar utencilios y \n",
      "Seguir pasos de receta\n",
      "Servir comida\n",
      "Disfrutar\n",
      "Elegir comida\n",
      "Preprar utencilios y \n",
      "Seguir pasos de receta\n",
      "Servir comida\n",
      "Disfrutar\n"
     ]
    }
   ],
   "source": [
    "#Challenge 4\n",
    "\n",
    "def cocinar():\n",
    "    print(\"Elegir comida\")\n",
    "    print(\"Preprar utencilios y ingredientes\")\n",
    "    print(\"Seguir pasos de receta\")\n",
    "    print(\"Servir comida\")\n",
    "    print(\"Disfrutar\")    \n",
    "\n",
    "cocinar()\n",
    "cocinar()\n",
    "cocinar()\n",
    "\n"
   ]
  },
  {
   "cell_type": "code",
   "execution_count": null,
   "id": "52a0fa3d",
   "metadata": {},
   "outputs": [
    {
     "name": "stdout",
     "output_type": "stream",
     "text": [
      "El obejto se llama heladera \n",
      "El objeto es de color azul\n",
      "El objeto mide 3m\n",
      "El valor del obejeto es 5000000g\n"
     ]
    }
   ],
   "source": [
    "# challenge 4\n",
    "\n",
    "def caracteristicas_de_elemento(nombre, color, tamaño, valor):\n",
    "    print(f\"El obejto se llama {nombre}\")\n",
    "    print(f\"El objeto es de color {color}\")\n",
    "    print(f\"El objeto mide {tamaño}m\")\n",
    "    print(f\"El valor del obejeto es {valor}g\")\n",
    "\n",
    "# caracteristicas_de_elemento(\"Heladera\", \"azul\", 3, \"5000\")\n",
    "caracteristicas_de_elemento(input(\"Como se llama el objeto\"),input(\"Cual es el color?\"),input(\"CUantos metros tiene?\"),input(\"Cuanto cuesta?\"))"
   ]
  },
  {
   "cell_type": "code",
   "execution_count": null,
   "id": "e0457375",
   "metadata": {},
   "outputs": [],
   "source": []
  }
 ],
 "metadata": {
  "kernelspec": {
   "display_name": "Python 3",
   "language": "python",
   "name": "python3"
  },
  "language_info": {
   "codemirror_mode": {
    "name": "ipython",
    "version": 3
   },
   "file_extension": ".py",
   "mimetype": "text/x-python",
   "name": "python",
   "nbconvert_exporter": "python",
   "pygments_lexer": "ipython3",
   "version": "3.13.3"
  }
 },
 "nbformat": 4,
 "nbformat_minor": 5
}
